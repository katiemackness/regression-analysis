{
 "cells": [
  {
   "cell_type": "markdown",
   "metadata": {},
   "source": [
    "# Regresión OLS Práctica\n",
    "Katlyn Goeujon-Mackness <br>\n",
    "31/31/2025 <br>\n",
    "**Descripción:** Un espacio para practicar el método OLS de regresión lineal."
   ]
  },
  {
   "cell_type": "markdown",
   "metadata": {},
   "source": [
    "## Estructura\n",
    "### Intervalos de confianza en regresión\n",
    "* Descubrir cómo calcular pronósticos puntuales y sus intervalos de confianza en el contexto de la regresión lineal múltiple. \n",
    "* Utilizar la distribución T de Student y la desviación estándar de la regresión para evaluar la incertidumbre en las predicciones del modelo.\n",
    "\n",
    "### Análisis de series de tiempo\n",
    "* Identificar patrones y tendencias en datos temporales.\n",
    "* Explorar técnicas para modelar y predecir comportamientos futuros basados en datos históricos.\n"
   ]
  },
  {
   "cell_type": "code",
   "execution_count": null,
   "metadata": {},
   "outputs": [],
   "source": []
  }
 ],
 "metadata": {
  "language_info": {
   "name": "python"
  }
 },
 "nbformat": 4,
 "nbformat_minor": 2
}
