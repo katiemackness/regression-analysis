{
 "cells": [
  {
   "cell_type": "markdown",
   "metadata": {},
   "source": [
    "# Pruebas de Hipótesis Práctica\n",
    "Katlyn Goeujon-Mackness <br>\n",
    "19/03/2025"
   ]
  },
  {
   "cell_type": "markdown",
   "metadata": {},
   "source": [
    "## Estructura\n",
    "1. Definir vectores y matrices para regresión lineal múltiple en Python\n",
    "2. Calcular coeficientes de regresión y evaluar su significancia\n",
    "3. Validar el modelo usando métricas como R² y R² ajustado\n",
    "4. Identificar variables significativas usando pruebas de hipótesis en regresión\n",
    "5. Analizar la multicolinealidad en modelos de regresión lineal múltiple\n",
    "6. Evaluar la significancia de variables mediante el método Stepwise"
   ]
  },
  {
   "cell_type": "code",
   "execution_count": 2,
   "metadata": {},
   "outputs": [],
   "source": [
    "import pandas as pd\n",
    "import numpy as np\n",
    "import warnings\n",
    "warnings.filterwarnings(\"ignore\")"
   ]
  },
  {
   "cell_type": "markdown",
   "metadata": {},
   "source": [
    "Nota: Para este ejemplo asumiremos que los datos de entrenamiento son sobre los que trabajaremos."
   ]
  },
  {
   "cell_type": "markdown",
   "metadata": {},
   "source": [
    "### 1. Definir vectores y matrices para regresión lineal múltiple en Python"
   ]
  },
  {
   "cell_type": "code",
   "execution_count": 3,
   "metadata": {},
   "outputs": [
    {
     "data": {
      "text/plain": [
       "array([[3],\n",
       "       [1],\n",
       "       [8],\n",
       "       [3],\n",
       "       [5]])"
      ]
     },
     "execution_count": 3,
     "metadata": {},
     "output_type": "execute_result"
    }
   ],
   "source": [
    "# Crear un DataFrame con datos dados\n",
    "Y = np.array([[3], [1], [8], [3], [5]])\n",
    "Y"
   ]
  },
  {
   "cell_type": "code",
   "execution_count": 4,
   "metadata": {},
   "outputs": [
    {
     "data": {
      "text/plain": [
       "array([[1, 3, 5],\n",
       "       [1, 1, 4],\n",
       "       [1, 5, 6],\n",
       "       [1, 2, 4],\n",
       "       [1, 4, 6]])"
      ]
     },
     "execution_count": 4,
     "metadata": {},
     "output_type": "execute_result"
    }
   ],
   "source": [
    "# Crear una matriz de características\n",
    "X = np.array([[1, 3, 5], [1, 1, 4], [1, 5, 6], [1, 2, 4], [1, 4, 6]])\n",
    "X"
   ]
  },
  {
   "cell_type": "code",
   "execution_count": 5,
   "metadata": {},
   "outputs": [
    {
     "data": {
      "text/plain": [
       "array([[  5,  15,  25],\n",
       "       [ 15,  55,  81],\n",
       "       [ 25,  81, 129]])"
      ]
     },
     "execution_count": 5,
     "metadata": {},
     "output_type": "execute_result"
    }
   ],
   "source": [
    "# Calcular la transpuesta de X\n",
    "XT_X = np.matmul(np.matrix.transpose(X), X)\n",
    "XT_X"
   ]
  },
  {
   "cell_type": "code",
   "execution_count": 6,
   "metadata": {},
   "outputs": [
    {
     "data": {
      "text/plain": [
       "array([[26.7,  4.5, -8. ],\n",
       "       [ 4.5,  1. , -1.5],\n",
       "       [-8. , -1.5,  2.5]])"
      ]
     },
     "execution_count": 6,
     "metadata": {},
     "output_type": "execute_result"
    }
   ],
   "source": [
    "# Calcular la inversa de la matriz XTX_X\n",
    "XT_X_inv = np.linalg.inv(XT_X)\n",
    "XT_X_inv"
   ]
  },
  {
   "cell_type": "code",
   "execution_count": 7,
   "metadata": {},
   "outputs": [
    {
     "data": {
      "text/plain": [
       "array([[ 20],\n",
       "       [ 76],\n",
       "       [109]])"
      ]
     },
     "execution_count": 7,
     "metadata": {},
     "output_type": "execute_result"
    }
   ],
   "source": [
    "# Calcular el producto de la transpuesta de X y Y\n",
    "XT_Y = np.matmul(np.matrix.transpose(X), Y)\n",
    "XT_Y"
   ]
  },
  {
   "cell_type": "markdown",
   "metadata": {},
   "source": [
    "### 2. Calcular coeficientes de regresión y evaluar su significancia\n"
   ]
  },
  {
   "cell_type": "code",
   "execution_count": 8,
   "metadata": {},
   "outputs": [
    {
     "data": {
      "text/plain": [
       "array([[ 4. ],\n",
       "       [ 2.5],\n",
       "       [-1.5]])"
      ]
     },
     "execution_count": 8,
     "metadata": {},
     "output_type": "execute_result"
    }
   ],
   "source": [
    "# Calcular los coeficientes de regresión (betas)\n",
    "betas = np.matmul(XT_X_inv, XT_Y)\n",
    "betas"
   ]
  },
  {
   "cell_type": "code",
   "execution_count": 9,
   "metadata": {},
   "outputs": [
    {
     "data": {
      "text/plain": [
       "array([[4. ],\n",
       "       [0.5],\n",
       "       [7.5],\n",
       "       [3. ],\n",
       "       [5. ]])"
      ]
     },
     "execution_count": 9,
     "metadata": {},
     "output_type": "execute_result"
    }
   ],
   "source": [
    "# Cálculos de los pronósticos para Y de acuerdo a los coeficientes de regresión\n",
    "Y_pred = np.matmul(X, betas)\n",
    "Y_pred"
   ]
  },
  {
   "cell_type": "code",
   "execution_count": 10,
   "metadata": {},
   "outputs": [
    {
     "data": {
      "text/plain": [
       "array([[-1.00000000e+00],\n",
       "       [ 5.00000000e-01],\n",
       "       [ 5.00000000e-01],\n",
       "       [-1.33226763e-13],\n",
       "       [-1.64313008e-13]])"
      ]
     },
     "execution_count": 10,
     "metadata": {},
     "output_type": "execute_result"
    }
   ],
   "source": [
    "# Cálculo de residuales\n",
    "Resid = Y - Y_pred\n",
    "Resid"
   ]
  },
  {
   "cell_type": "code",
   "execution_count": 11,
   "metadata": {},
   "outputs": [
    {
     "data": {
      "text/plain": [
       "1.4999999999999991"
      ]
     },
     "execution_count": 11,
     "metadata": {},
     "output_type": "execute_result"
    }
   ],
   "source": [
    "# Cálculo de la suma de residuales al cuadrado\n",
    "RSS = float(np.matmul(np.matrix.transpose(Resid), Resid))\n",
    "RSS"
   ]
  },
  {
   "cell_type": "code",
   "execution_count": 12,
   "metadata": {},
   "outputs": [
    {
     "data": {
      "text/plain": [
       "28.0"
      ]
     },
     "execution_count": 12,
     "metadata": {},
     "output_type": "execute_result"
    }
   ],
   "source": [
    "# Cálculo de la suma total de cuadrados\n",
    "TSS = float(np.matmul(np.matrix.transpose(Y), Y) - len(Y)*(Y.mean()**2))\n",
    "TSS"
   ]
  },
  {
   "cell_type": "markdown",
   "metadata": {},
   "source": [
    "### 3. Validar el modelo usando métricas como R² y R² ajustado\n"
   ]
  },
  {
   "cell_type": "code",
   "execution_count": 13,
   "metadata": {},
   "outputs": [
    {
     "data": {
      "text/plain": [
       "0.9464285714285715"
      ]
     },
     "execution_count": 13,
     "metadata": {},
     "output_type": "execute_result"
    }
   ],
   "source": [
    "# Cálculo del coeficiente de determinación R^2\n",
    "R_cuad = float(1-(RSS/TSS))\n",
    "R_cuad"
   ]
  },
  {
   "cell_type": "code",
   "execution_count": 14,
   "metadata": {},
   "outputs": [
    {
     "data": {
      "text/plain": [
       "0.8928571428571429"
      ]
     },
     "execution_count": 14,
     "metadata": {},
     "output_type": "execute_result"
    }
   ],
   "source": [
    "# Cálculo del coeficiente de determinación ajustado R^2\n",
    "RSqAj = float(1 - (RSS / (X.shape[0] - X.shape[1])) / (TSS / (X.shape[0] - 1)))\n",
    "RSqAj"
   ]
  },
  {
   "cell_type": "code",
   "execution_count": 15,
   "metadata": {},
   "outputs": [
    {
     "data": {
      "text/plain": [
       "0.7499999999999996"
      ]
     },
     "execution_count": 15,
     "metadata": {},
     "output_type": "execute_result"
    }
   ],
   "source": [
    "# Cálculo de la varianza del error de regresión\n",
    "s_cuad = RSS / (len(Y) - X.shape[1])\n",
    "s_cuad"
   ]
  },
  {
   "cell_type": "code",
   "execution_count": 16,
   "metadata": {},
   "outputs": [
    {
     "data": {
      "text/plain": [
       "0.8660254037844384"
      ]
     },
     "execution_count": 16,
     "metadata": {},
     "output_type": "execute_result"
    }
   ],
   "source": [
    "# Desviación estándar de los errores de regresión\n",
    "import math\n",
    "s = math.sqrt(s_cuad)\n",
    "s"
   ]
  },
  {
   "cell_type": "code",
   "execution_count": 17,
   "metadata": {},
   "outputs": [
    {
     "data": {
      "text/plain": [
       "[0.893868697538675, 2.8867513459481344, -1.0954451150103264]"
      ]
     },
     "execution_count": 17,
     "metadata": {},
     "output_type": "execute_result"
    }
   ],
   "source": [
    "# Cálculo de las t-stats para cada coeficiente de regresión\n",
    "result_t = []\n",
    "for i in range(0, X.shape[1]):\n",
    "    t = float(betas[i] / (s * math.sqrt(XT_X_inv[i][i])))\n",
    "    result_t.append(t)\n",
    "result_t"
   ]
  },
  {
   "cell_type": "markdown",
   "metadata": {},
   "source": [
    "### 4. Identificar variables significativas usando pruebas de hipótesis en regresión"
   ]
  },
  {
   "cell_type": "markdown",
   "metadata": {},
   "source": [
    "### Criterio 1:"
   ]
  },
  {
   "cell_type": "code",
   "execution_count": 18,
   "metadata": {},
   "outputs": [
    {
     "data": {
      "text/plain": [
       "np.float64(4.302652729696144)"
      ]
     },
     "execution_count": 18,
     "metadata": {},
     "output_type": "execute_result"
    }
   ],
   "source": [
    "# Obtener valor crítico de la t de Student de tablas\n",
    "import scipy.stats\n",
    "\n",
    "grados_libertad = len(Y) - X.shape[1]\n",
    "# La t_critica se obtendrá a un nivel de confianza del 95% (Alfa = 5%)\n",
    "t_critico = abs(scipy.stats.t.ppf(q=0.025, df = grados_libertad))\n",
    "t_critico"
   ]
  },
  {
   "cell_type": "code",
   "execution_count": 20,
   "metadata": {},
   "outputs": [
    {
     "name": "stdout",
     "output_type": "stream",
     "text": [
      "Beta 0 NO es significativa\n",
      "Beta 1 NO es significativa\n",
      "Beta 2 NO es significativa\n"
     ]
    }
   ],
   "source": [
    "for i in range(0, X.shape[1]):\n",
    "    if (abs(result_t[i])) > t_critico:\n",
    "        print(\"Beta\", i, \"es significativa\") # Aquí se rechaza H0\n",
    "    else:\n",
    "        print(\"Beta\", i, \"NO es significativa\") # Aquí NO se rechaza H0"
   ]
  },
  {
   "cell_type": "markdown",
   "metadata": {},
   "source": [
    "Este resultado parece una contradicción. <br>\n",
    "Continuamos con el siguente criterio."
   ]
  },
  {
   "cell_type": "markdown",
   "metadata": {},
   "source": [
    "### Criterio 2:"
   ]
  },
  {
   "cell_type": "code",
   "execution_count": 21,
   "metadata": {},
   "outputs": [
    {
     "name": "stdout",
     "output_type": "stream",
     "text": [
      "Valor p de Beta 0 : 0.23285799130426266\n",
      "Valor p de Beta 1 : 0.05098674493306258\n",
      "Valor p de Beta 2 : 0.19381378215210376\n"
     ]
    }
   ],
   "source": [
    "# Cálculo de valores p\n",
    "for i in range(0, X.shape[1]):\n",
    "    print(\"Valor p de Beta\", i, \":\", scipy.stats.t.sf(abs(result_t[i]), df = grados_libertad))"
   ]
  },
  {
   "cell_type": "markdown",
   "metadata": {},
   "source": [
    "Si manejamos un nivel alfa de 5%, en ninguno de los casos el valor p es menor al 5%.\n",
    "<br> Por lo que no podemos rechazar H0."
   ]
  },
  {
   "cell_type": "markdown",
   "metadata": {},
   "source": [
    "### Criterio 3"
   ]
  },
  {
   "cell_type": "code",
   "execution_count": 22,
   "metadata": {},
   "outputs": [
    {
     "name": "stdout",
     "output_type": "stream",
     "text": [
      "El valor de Beta 0 se encuentra entre -15.25407049846963 y 19.25407049846972\n",
      "El valor de Beta 1 se encuentra entre -1.226206567579316 y 3.726206567579322\n",
      "El valor de Beta 2 se encuentra entre -7.39164989291438 y 5.891649892914388\n"
     ]
    }
   ],
   "source": [
    "# Cálculo de intervales de confianze del 95% para el verdadero valor\n",
    "#  del coeficiente de cada Beta\n",
    "for i in range(0, X.shape[1]):\n",
    "    print(\"El valor de Beta\", i, \"se encuentra entre\", \n",
    "          float(betas[i]) - t_critico * s * math.sqrt(XT_X_inv[i][i]),\n",
    "          \"y\", t_critico * s * math.sqrt(XT_X_inv[i][i]))\n",
    "    "
   ]
  },
  {
   "cell_type": "markdown",
   "metadata": {},
   "source": [
    "Ninguna de las variables regresoras (independientes) es significativamente distinta de cero."
   ]
  },
  {
   "cell_type": "code",
   "execution_count": 23,
   "metadata": {},
   "outputs": [
    {
     "name": "stdout",
     "output_type": "stream",
     "text": [
      "                            OLS Regression Results                            \n",
      "==============================================================================\n",
      "Dep. Variable:                      y   R-squared:                       0.946\n",
      "Model:                            OLS   Adj. R-squared:                  0.893\n",
      "Method:                 Least Squares   F-statistic:                     17.67\n",
      "Date:                Thu, 20 Mar 2025   Prob (F-statistic):             0.0536\n",
      "Time:                        15:59:08   Log-Likelihood:                -4.0848\n",
      "No. Observations:                   5   AIC:                             14.17\n",
      "Df Residuals:                       2   BIC:                             13.00\n",
      "Df Model:                           2                                         \n",
      "Covariance Type:            nonrobust                                         \n",
      "==============================================================================\n",
      "                 coef    std err          t      P>|t|      [0.025      0.975]\n",
      "------------------------------------------------------------------------------\n",
      "const          4.0000      4.475      0.894      0.466     -15.254      23.254\n",
      "x1             2.5000      0.866      2.887      0.102      -1.226       6.226\n",
      "x2            -1.5000      1.369     -1.095      0.388      -7.392       4.392\n",
      "==============================================================================\n",
      "Omnibus:                          nan   Durbin-Watson:                   1.667\n",
      "Prob(Omnibus):                    nan   Jarque-Bera (JB):                0.747\n",
      "Skew:                          -0.913   Prob(JB):                        0.688\n",
      "Kurtosis:                       2.500   Cond. No.                         74.5\n",
      "==============================================================================\n",
      "\n",
      "Notes:\n",
      "[1] Standard Errors assume that the covariance matrix of the errors is correctly specified.\n"
     ]
    },
    {
     "name": "stderr",
     "output_type": "stream",
     "text": [
      "/home/codespace/.python/current/lib/python3.12/site-packages/statsmodels/stats/stattools.py:74: ValueWarning: omni_normtest is not valid with less than 8 observations; 5 samples were given.\n",
      "  warn(\"omni_normtest is not valid with less than 8 observations; %i \"\n"
     ]
    }
   ],
   "source": [
    "# Comparación de resultados contra reporte automatizado\n",
    "import statsmodels.api as sm\n",
    "\n",
    "regressor = sm.OLS(Y, X).fit()\n",
    "print(regressor.summary())"
   ]
  },
  {
   "cell_type": "markdown",
   "metadata": {},
   "source": [
    "#### Comentario:\n",
    "Los resultados de los criterios contradicen el R cuadrado y el R cuadrado ajustado, lo que sugiere sobreajuste. \n",
    "<br>La multicolinealidad podría ser el problema."
   ]
  },
  {
   "cell_type": "markdown",
   "metadata": {},
   "source": [
    "### 5. Analizar la multicolinealidad en modelos de regresión lineal múltiple\n"
   ]
  },
  {
   "cell_type": "code",
   "execution_count": 24,
   "metadata": {},
   "outputs": [
    {
     "data": {
      "text/html": [
       "<div>\n",
       "<style scoped>\n",
       "    .dataframe tbody tr th:only-of-type {\n",
       "        vertical-align: middle;\n",
       "    }\n",
       "\n",
       "    .dataframe tbody tr th {\n",
       "        vertical-align: top;\n",
       "    }\n",
       "\n",
       "    .dataframe thead th {\n",
       "        text-align: right;\n",
       "    }\n",
       "</style>\n",
       "<table border=\"1\" class=\"dataframe\">\n",
       "  <thead>\n",
       "    <tr style=\"text-align: right;\">\n",
       "      <th></th>\n",
       "      <th>1</th>\n",
       "      <th>2</th>\n",
       "    </tr>\n",
       "  </thead>\n",
       "  <tbody>\n",
       "    <tr>\n",
       "      <th>1</th>\n",
       "      <td>1.000000</td>\n",
       "      <td>0.948683</td>\n",
       "    </tr>\n",
       "    <tr>\n",
       "      <th>2</th>\n",
       "      <td>0.948683</td>\n",
       "      <td>1.000000</td>\n",
       "    </tr>\n",
       "  </tbody>\n",
       "</table>\n",
       "</div>"
      ],
      "text/plain": [
       "          1         2\n",
       "1  1.000000  0.948683\n",
       "2  0.948683  1.000000"
      ]
     },
     "execution_count": 24,
     "metadata": {},
     "output_type": "execute_result"
    }
   ],
   "source": [
    "# Matriz de corelación\n",
    "data = pd.DataFrame(X)\n",
    "data2 = data.iloc[:,1:3]\n",
    "data2.corr()"
   ]
  },
  {
   "cell_type": "markdown",
   "metadata": {},
   "source": [
    "La matriz de corelación sugiere multicolinealidad. Será necesario evaluar las variables."
   ]
  },
  {
   "cell_type": "markdown",
   "metadata": {},
   "source": [
    "### 6. Evaluar la significancia de variables mediante el método Stepwise"
   ]
  },
  {
   "cell_type": "code",
   "execution_count": null,
   "metadata": {},
   "outputs": [
    {
     "data": {
      "text/plain": [
       "array([[1, 3],\n",
       "       [1, 1],\n",
       "       [1, 5],\n",
       "       [1, 2],\n",
       "       [1, 4]])"
      ]
     },
     "execution_count": 25,
     "metadata": {},
     "output_type": "execute_result"
    }
   ],
   "source": [
    "# Eliminar la columna 2 de la matriz X\n",
    "X_Nueva = np.delete(X, 2, 1)\n",
    "X_Nueva"
   ]
  },
  {
   "cell_type": "code",
   "execution_count": 26,
   "metadata": {},
   "outputs": [
    {
     "name": "stdout",
     "output_type": "stream",
     "text": [
      "                            OLS Regression Results                            \n",
      "==============================================================================\n",
      "Dep. Variable:                      y   R-squared:                       0.914\n",
      "Model:                            OLS   Adj. R-squared:                  0.886\n",
      "Method:                 Least Squares   F-statistic:                     32.00\n",
      "Date:                Thu, 20 Mar 2025   Prob (F-statistic):             0.0109\n",
      "Time:                        16:08:07   Log-Likelihood:                -5.2598\n",
      "No. Observations:                   5   AIC:                             14.52\n",
      "Df Residuals:                       3   BIC:                             13.74\n",
      "Df Model:                           1                                         \n",
      "Covariance Type:            nonrobust                                         \n",
      "==============================================================================\n",
      "                 coef    std err          t      P>|t|      [0.025      0.975]\n",
      "------------------------------------------------------------------------------\n",
      "const         -0.8000      0.938     -0.853      0.456      -3.785       2.185\n",
      "x1             1.6000      0.283      5.657      0.011       0.700       2.500\n",
      "==============================================================================\n",
      "Omnibus:                          nan   Durbin-Watson:                   1.367\n",
      "Prob(Omnibus):                    nan   Jarque-Bera (JB):                0.570\n",
      "Skew:                          -0.289   Prob(JB):                        0.752\n",
      "Kurtosis:                       1.450   Cond. No.                         8.37\n",
      "==============================================================================\n",
      "\n",
      "Notes:\n",
      "[1] Standard Errors assume that the covariance matrix of the errors is correctly specified.\n"
     ]
    },
    {
     "name": "stderr",
     "output_type": "stream",
     "text": [
      "/home/codespace/.python/current/lib/python3.12/site-packages/statsmodels/stats/stattools.py:74: ValueWarning: omni_normtest is not valid with less than 8 observations; 5 samples were given.\n",
      "  warn(\"omni_normtest is not valid with less than 8 observations; %i \"\n"
     ]
    }
   ],
   "source": [
    "regressor = sm.OLS(Y, X_Nueva).fit()\n",
    "print(regressor.summary())"
   ]
  },
  {
   "cell_type": "markdown",
   "metadata": {},
   "source": [
    "#### Comentario\n",
    "Al eliminar la columna de la matriz, apareció una variable que parece ser significativa."
   ]
  },
  {
   "cell_type": "markdown",
   "metadata": {},
   "source": []
  }
 ],
 "metadata": {
  "kernelspec": {
   "display_name": "Python 3",
   "language": "python",
   "name": "python3"
  },
  "language_info": {
   "codemirror_mode": {
    "name": "ipython",
    "version": 3
   },
   "file_extension": ".py",
   "mimetype": "text/x-python",
   "name": "python",
   "nbconvert_exporter": "python",
   "pygments_lexer": "ipython3",
   "version": "3.12.1"
  }
 },
 "nbformat": 4,
 "nbformat_minor": 2
}
